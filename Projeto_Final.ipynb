{
 "cells": [
  {
   "cell_type": "markdown",
   "id": "9a5399e0",
   "metadata": {},
   "source": [
    "# Projeto de Conclusão\n",
    "---\n",
    "### *Disclaimer:*\n",
    "Este código foi elaborado para fins exclusivamente educacionais. O conteúdo aqui apresentado visa fornecer informações complementares para auxiliar o investidor na tomada de suas próprias decisões de investimento. Reforçando, nenhum tópico aqui abordado constitui qualquer tipo de indicação/oferta/solicitação de compra/venda de qualquer produto.<br/>\n",
    "<br/>\n",
    "\n",
    "---\n",
    "- Primeira parte: selecionar um ativo e realizar análises quantitativas a partir dos dados de preço do mesmo\n",
    "\n",
    "- Segunda parte: a partir da estratégia escolhida realizar o backtesting e avaliar seu desempenho\n",
    "\n",
    "- Terceira parte: plugar e implementar sua estratégia no MetaTrader5"
   ]
  },
  {
   "cell_type": "markdown",
   "id": "10592da2",
   "metadata": {},
   "source": [
    "# 1. Instalando e importando Bibliotecas"
   ]
  },
  {
   "cell_type": "code",
   "execution_count": null,
   "id": "755e2c75",
   "metadata": {},
   "outputs": [],
   "source": [
    "%pip install backtrader\n",
    "%pip install MetaTrader5 "
   ]
  },
  {
   "cell_type": "code",
   "execution_count": null,
   "id": "ba2a865a",
   "metadata": {},
   "outputs": [],
   "source": [
    "# Análise e manipulação de dados\n",
    "\n",
    "import numpy as np\n",
    "import pandas as pd\n",
    "import backtrader as bt\n",
    "import matplotlib.pyplot as plt\n",
    "\n",
    "# Dados séries temporais\n",
    "\n",
    "from datetime import datetime\n",
    "import pytz\n",
    "import time\n",
    "\n",
    "# Integração com MetaTrader 5\n",
    "\n",
    "import MetaTrader5 as mt5\n"
   ]
  },
  {
   "cell_type": "code",
   "execution_count": null,
   "id": "cc586d97",
   "metadata": {},
   "outputs": [],
   "source": [
    "mt5.initialize()"
   ]
  },
  {
   "cell_type": "markdown",
   "id": "62af0ed1",
   "metadata": {},
   "source": [
    "# 2. Extraindo dados do MetaTrader5"
   ]
  },
  {
   "cell_type": "code",
   "execution_count": null,
   "id": "ded55ef1",
   "metadata": {},
   "outputs": [],
   "source": [
    "#Selecionar o ativo\n",
    "\n",
    "ativo = 'WEGE3'"
   ]
  },
  {
   "cell_type": "code",
   "execution_count": null,
   "id": "d7398243",
   "metadata": {},
   "outputs": [],
   "source": [
    "#Selecionar timezone para São Paulo\n",
    "\n",
    "timezone = pytz.timezone(\"America/Sao_Paulo\")"
   ]
  },
  {
   "cell_type": "code",
   "execution_count": null,
   "id": "2d28dbb7",
   "metadata": {},
   "outputs": [],
   "source": [
    "# Definir data inicial e data final, neste formato\n",
    "\n",
    "data_inicio = datetime(2021,1,1, tzinfo=timezone)\n",
    "data_fim = datetime(2022,1,1, tzinfo=timezone)"
   ]
  },
  {
   "cell_type": "code",
   "execution_count": null,
   "id": "2db13614",
   "metadata": {},
   "outputs": [],
   "source": [
    "#Criar um objeto chamado cotacoes com os parâmetros ativo, time frame, data inicio e data fim\n",
    "\n",
    "cotacoes = mt5.copy_rates_range(ativo, mt5.TIMEFRAME_D1, data_inicio,data_fim)"
   ]
  },
  {
   "cell_type": "code",
   "execution_count": null,
   "id": "fa5cce8b",
   "metadata": {},
   "outputs": [],
   "source": [
    "cotacoes"
   ]
  },
  {
   "cell_type": "code",
   "execution_count": null,
   "id": "86c7b348",
   "metadata": {},
   "outputs": [],
   "source": [
    "df = pd.DataFrame(cotacoes)\n",
    "df.head()"
   ]
  },
  {
   "cell_type": "code",
   "execution_count": null,
   "id": "d49d71f3",
   "metadata": {},
   "outputs": [],
   "source": [
    "# Transformar a coluna \"time\" para o formato de data e hora padrão\n",
    "\n",
    "df['time']=pd.to_datetime(df['time'], unit='s')\n",
    "df\n",
    "\n",
    "# Transformar a coluna 'time' para o índice do dataframe\n",
    "\n",
    "df.index = df['time']\n",
    "df.head()"
   ]
  },
  {
   "cell_type": "markdown",
   "id": "9bf5506f",
   "metadata": {},
   "source": [
    "# 3. Análise Quantitativa"
   ]
  },
  {
   "cell_type": "code",
   "execution_count": null,
   "id": "faaa6a99",
   "metadata": {},
   "outputs": [],
   "source": [
    "#Vamos analisar o comportamento dos retornos da ação\n",
    "\n",
    "\n",
    "retornos = pd.DataFrame(df.close.pct_change())\n",
    "retornos"
   ]
  },
  {
   "cell_type": "code",
   "execution_count": null,
   "id": "f8750501",
   "metadata": {},
   "outputs": [],
   "source": [
    "#Visualmente vamos entender o comportamento\n",
    "\n",
    "\n",
    "retornos.plot(figsize = (13,8))"
   ]
  },
  {
   "cell_type": "code",
   "execution_count": null,
   "id": "15b91cf6",
   "metadata": {},
   "outputs": [],
   "source": [
    "#Vamos realizar o cálculo da volatilidade dentro de uma janela de 10 dias e analisar como ela se comporta graficamente\n",
    "\n",
    "janelas_vol = retornos.rolling(10).std()\n",
    "janelas_vol.plot()"
   ]
  },
  {
   "cell_type": "code",
   "execution_count": null,
   "id": "9697a618",
   "metadata": {},
   "outputs": [],
   "source": [
    "#Agora entender como estão agrupados os retornos de acordo com a sua frequência dentro do histograma\n",
    "retornos.plot.hist(bins = 80);"
   ]
  },
  {
   "cell_type": "code",
   "execution_count": null,
   "id": "7087a7e4",
   "metadata": {},
   "outputs": [],
   "source": [
    "#Observar as maiores perdas dentro de uma janela de 20 dias (aprox um mês)\n",
    "\n",
    "dd_30 = retornos.rolling(window = 20).min()\n",
    "\n",
    "dd_30.plot()"
   ]
  },
  {
   "cell_type": "markdown",
   "id": "24e48604",
   "metadata": {},
   "source": [
    "# 5. Backtesting\n",
    "\n",
    "Iremos desenvolver uma estratégia de swing trade que irá comprar quando preço cruzar para cima a média móvel de 100 dias e quando cruzar novamente para baixo, iremos vender."
   ]
  },
  {
   "cell_type": "code",
   "execution_count": null,
   "id": "0227a4c0",
   "metadata": {
    "scrolled": true
   },
   "outputs": [],
   "source": [
    "#Verificar se não há nenhum NaN antes de entrar no backtesting de fato\n",
    "\n",
    "df.isna().sum()"
   ]
  },
  {
   "cell_type": "code",
   "execution_count": null,
   "id": "75d5791d",
   "metadata": {},
   "outputs": [],
   "source": [
    "#Importar os dados para dentro do backtrader\n",
    "\n",
    "data = bt.feeds.PandasData(dataname=df)"
   ]
  },
  {
   "cell_type": "code",
   "execution_count": null,
   "id": "93342aea",
   "metadata": {},
   "outputs": [],
   "source": [
    "import backtrader.analyzers as btanalyzers\n",
    "\n",
    "class rsi_media_movel(bt.Strategy):\n",
    "\n",
    "  def __init__(self):\n",
    "\n",
    "    self.mm_rapida = bt.indicators.SMA(self.data.close, period=100)\n",
    "    self.crossup = bt.ind.CrossUp(self.data.close, self.mm_rapida)\n",
    "    self.crossdown = bt.ind.CrossDown(self.data.close, self.mm_rapida)\n",
    "\n",
    "\n",
    "  def next(self):\n",
    "    if not self.position: #se não tiver alguma ordem aberta - condição de compra\n",
    "      if self.crossup == 1:\n",
    "        self.buy(size=100)\n",
    "\n",
    "    else: #caso a ordem já estiver aberta - condição de venda\n",
    "      if self.crossdown == 1:\n",
    "        self.sell(size=100)\n",
    "  \n",
    "caixa_inicial = 30000 #definimos o montante a inicial do portfólio\n",
    "\n",
    "cerebro = bt.Cerebro()\n",
    "cerebro.addstrategy(rsi_media_movel)\n",
    "cerebro.adddata(data)\n",
    "cerebro.broker.setcommission(commission=0.003) #setamos a comissão da exchange\n",
    "cerebro.broker.setcash(caixa_inicial)\n",
    "cerebro.addanalyzer(btanalyzers.PeriodStats, _name='stats', timeframe=bt.TimeFrame.Days)\n",
    "cerebro.addanalyzer(btanalyzers.DrawDown, _name='drawdown')\n",
    "thestrats = cerebro.run()\n",
    "thestrat = thestrats[0]\n",
    "print('Estatísticas:', thestrat.analyzers.stats.get_analysis())\n",
    "print('Final Portfolio Value: %.2f' % cerebro.broker.getvalue())\n",
    "print('Drawdown:', thestrat.analyzers.drawdown.get_analysis())"
   ]
  },
  {
   "cell_type": "code",
   "execution_count": null,
   "id": "71ba652f",
   "metadata": {},
   "outputs": [],
   "source": [
    "thestrat.analyzers.stats.get_analysis()\n"
   ]
  },
  {
   "cell_type": "code",
   "execution_count": null,
   "id": "3e1ab45b",
   "metadata": {},
   "outputs": [],
   "source": [
    "info = thestrat.analyzers.stats.get_analysis()"
   ]
  },
  {
   "cell_type": "code",
   "execution_count": null,
   "id": "2835fa0a",
   "metadata": {},
   "outputs": [],
   "source": [
    "estatisticas =info.values()\n",
    "estatisticas = list(estatisticas)\n",
    "estatisticas = pd.DataFrame(estatisticas, index=info.keys())\n",
    "estatisticas"
   ]
  },
  {
   "cell_type": "markdown",
   "id": "d1bdc164",
   "metadata": {},
   "source": [
    "# 7.Automatizando o Trade\n",
    "\n",
    "Aqui entramos na parte do MetaTrader 5, duas observações importantes:\n",
    "\n",
    "- Primeiro que o seu ticker selecionado deve estar presente no quadro \"Observação de Mercado\" no canto superior direito do Metarade\n",
    "- Segundo que caso você queira operar no gráfico de 1, 5, 10 ou 15 minutos você deve ir no menu superior -> Ferramentas -> Na aba Gráficos -> Selecionar a opção 'Máx. barras no gráfico\" para \"Unlimited\", dessa maneira você conseguirá extrair e operar em um nível granular de tempo menor.\n"
   ]
  },
  {
   "cell_type": "code",
   "execution_count": null,
   "id": "50c6cada",
   "metadata": {},
   "outputs": [],
   "source": [
    "#testar comunicação\n",
    "\n",
    "import sys\n",
    "\n",
    "count_cotacoes = 0\n",
    "\n",
    "while count_cotacoes < 5:\n",
    "    ativo = mt5.symbol_info_tick(\"PETR4\")\n",
    "    print(\"\\r\" + str(ativo.last))\n",
    "    sys.stdout.flush()\n",
    "    count_cotacoes += 1\n",
    "    time.sleep(5)"
   ]
  },
  {
   "cell_type": "code",
   "execution_count": null,
   "id": "d4eb440e",
   "metadata": {},
   "outputs": [],
   "source": [
    "ativo.last"
   ]
  },
  {
   "cell_type": "code",
   "execution_count": null,
   "id": "d20f6b4e",
   "metadata": {},
   "outputs": [],
   "source": [
    "datetime.today()"
   ]
  },
  {
   "cell_type": "code",
   "execution_count": null,
   "id": "e5e52385",
   "metadata": {},
   "outputs": [],
   "source": [
    "# Iremos gerar um dataframe em tempo real analisando os dados diários de PETR4\n",
    "\n",
    "symbol='PETR4'\n",
    "cotacoes_ativo = mt5.copy_rates_range(symbol, mt5.TIMEFRAME_D1, data_inicio,datetime.today())\n",
    "\n"
   ]
  },
  {
   "cell_type": "code",
   "execution_count": null,
   "id": "5e5aadd9",
   "metadata": {},
   "outputs": [],
   "source": [
    "#Transformar em um dataframe \n",
    "\n",
    "cotacoes_df = pd.DataFrame(cotacoes_ativo)\n",
    "cotacoes_df['time']=pd.to_datetime(cotacoes_df['time'], unit='s')\n",
    "cotacoes_df.index = cotacoes_df['time']\n",
    "\n",
    "## Cálculo Média Móvel de 100 períodos\n",
    "MM_periodo = 100\n",
    "MMA = cotacoes_df['close'].rolling(window=MM_periodo).mean()\n",
    "cotacoes_df['MMA_100p'] = MMA\n",
    "cotacoes_df.tail(20)"
   ]
  },
  {
   "cell_type": "code",
   "execution_count": null,
   "id": "225802d3",
   "metadata": {},
   "outputs": [],
   "source": [
    "#Agora iremos desenvolver a estratégia de cruzamento de média\n",
    "\n",
    "\n",
    "contador_sinais = 0\n",
    "posição = 0\n",
    "\n",
    "\n",
    "while (contador_sinais < 20) and (posição == 0):\n",
    "    contador_sinais += 1\n",
    "    print(\"----------------------------------------\")\n",
    "    print(\"A hora atual é\", datetime.today())\n",
    "    \n",
    "    symbol='PETR4'\n",
    "    cotacoes_ativo = mt5.copy_rates_range(symbol, mt5.TIMEFRAME_D1, data_inicio,datetime.today())\n",
    "    cotacoes_df = pd.DataFrame(cotacoes_ativo)\n",
    "    cotacoes_df['time'] = pd.to_datetime(cotacoes_df['time'], unit='s')\n",
    "    cotacoes_df.index = cotacoes_df['time']\n",
    "    \n",
    "    MM_periodo = 100\n",
    "    MMA = cotacoes_df['close'].rolling(window=MM_periodo).mean()\n",
    "    cotacoes_df['MMA'] = MMA\n",
    "    \n",
    "    qtd = 100.0\n",
    "    tick_min = mt5.symbol_info(symbol).point\n",
    "    preco_compra = mt5.symbol_info_tick(symbol).ask\n",
    "    preco_venda = mt5.symbol_info_tick(symbol).bid\n",
    "    desvio_toler = 0\n",
    "    \n",
    "    ordem_compra = {\n",
    "        \"action\": mt5.TRADE_ACTION_DEAL,\n",
    "        \"symbol\": symbol,\n",
    "        \"volume\": qtd,\n",
    "        \"type\": mt5.ORDER_TYPE_BUY,\n",
    "        \"price\": preco_compra, # preço de compra, aqui definido como ask do ativo (melhor preço de venda do book)\n",
    "        \"sl\": preco_compra - 100 * tick_min, #stop loss (preço de entrada - 100 ticks mínimos)\n",
    "        \"tp\": preco_compra + 100 * tick_min, #take profit (preço de entrada + 100 ticks mínimos)\n",
    "        \"deviation\": desvio_toler, \n",
    "        \"magic\": 1, \n",
    "        \"comment\": \"Trades estratégia MMA100\", \n",
    "        \"type_time\": mt5.ORDER_TIME_DAY, \n",
    "        \"type_filling\": mt5.ORDER_FILLING_RETURN, \n",
    "    }\n",
    "    ordem_venda = {\n",
    "        \"action\": mt5.TRADE_ACTION_DEAL, # tipo de ordem (a mercado)\n",
    "        \"symbol\": symbol, \n",
    "        \"volume\": qtd, \n",
    "        \"type\": mt5.ORDER_TYPE_SELL, # venda a mercado\n",
    "        \"price\": preco_venda, # preço de compra, aqui definido como ask do ativo (melhor preço de venda do book)\n",
    "        \"sl\": preco_venda + 100 * tick_min, #stop loss (preço de entrada - 100 ticks mínimos)\n",
    "        \"tp\": preco_venda - 100 * tick_min, #take profit (preço de entrada + 100 ticks mínimos)\n",
    "        \"deviation\": desvio_toler, \n",
    "        \"magic\": 1, \n",
    "        \"comment\": \"Trades estratégia MMA100\", \n",
    "        \"type_time\": mt5.ORDER_TIME_DAY,\n",
    "        \"type_filling\": mt5.ORDER_FILLING_RETURN, \n",
    "    }\n",
    "    \n",
    "    print(\"O preço de fechamento anterior havia sido de\",cotacoes_df.close[-2],\"e a MM_100p estava em\",cotacoes_df.MMA[-2])\n",
    "    print(\"O preço de fechamento atual está em\",cotacoes_df.close[-1],\"e a MM_100p está em\",cotacoes_df.MMA[-1])\n",
    "    \n",
    "    if (cotacoes_df.close[-1] > cotacoes_df.MMA[-1]) and (cotacoes_df.close[-2] < cotacoes_df.MMA[-2]):\n",
    "        print(\"Sinal de entrada: COMPRA\")\n",
    "        mt5.order_send(ordem_compra)\n",
    "        print(\"COMPRA executada com sucesso!\")\n",
    "        print(\"A ordem OCO do Stoploss está no preço:\",(preco_compra - 100 * tick_min))\n",
    "        print(\"A ordem OCO do Take Profit está no preço:\",(preco_compra + 100 * tick_min))\n",
    "        posição = 1\n",
    "        time.sleep(15)\n",
    "        \n",
    "    elif (cotacoes_df.close[-1] < cotacoes_df.MMA[-1]) and (cotacoes_df.close[-2] > cotacoes_df.MMA[-2]):\n",
    "        print(\"Sinal de entrada: VENDA\")\n",
    "        mt5.order_send(ordem_venda)\n",
    "        print(\"VENDA executada com sucesso!\")\n",
    "        print(\"A ordem OCO do Stoploss está no preço:\",(preco_venda + 100 * tick_min))\n",
    "        print(\"A ordem OCO do Take Profit está no preço:\",((preco_venda - 100 * tick_min)))\n",
    "        posição = -1\n",
    "        time.sleep(15)\n",
    "        \n",
    "    else:\n",
    "        print(\"Nada a fazer nesse momento. Aguarde a próxima extração em 15 seg\")\n",
    "        time.sleep(15)\n",
    "    "
   ]
  },
  {
   "cell_type": "code",
   "execution_count": null,
   "id": "97c11739",
   "metadata": {},
   "outputs": [],
   "source": []
  }
 ],
 "metadata": {
  "kernelspec": {
   "display_name": "Python 3.10.5 64-bit",
   "language": "python",
   "name": "python3"
  },
  "language_info": {
   "codemirror_mode": {
    "name": "ipython",
    "version": 3
   },
   "file_extension": ".py",
   "mimetype": "text/x-python",
   "name": "python",
   "nbconvert_exporter": "python",
   "pygments_lexer": "ipython3",
   "version": "3.10.5"
  },
  "vscode": {
   "interpreter": {
    "hash": "818acbb336200080d6f8e71a9128c229e7bae5d2b535bdd246d0f5d9691a261c"
   }
  }
 },
 "nbformat": 4,
 "nbformat_minor": 5
}
